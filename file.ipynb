{
 "cells": [
  {
   "cell_type": "code",
   "execution_count": 10,
   "metadata": {},
   "outputs": [
    {
     "data": {
      "text/plain": [
       "13"
      ]
     },
     "execution_count": 10,
     "metadata": {},
     "output_type": "execute_result"
    }
   ],
   "source": [
    "file=open('test.txt' ,'w+')\n",
    "file.write('hello world \\n')\n",
    "file.write('hello world \\n')\n",
    "file.write('hello world \\n')\n",
    "file.write('hello world \\n')\n",
    "file.write('hello world \\n')"
   ]
  },
  {
   "cell_type": "code",
   "execution_count": 11,
   "metadata": {},
   "outputs": [
    {
     "data": {
      "text/plain": [
       "'hello world \\nhello world \\nhello world \\nhello world \\nhello world \\n'"
      ]
     },
     "execution_count": 11,
     "metadata": {},
     "output_type": "execute_result"
    }
   ],
   "source": [
    "file.seek(0)\n",
    "file.read()"
   ]
  },
  {
   "cell_type": "code",
   "execution_count": 12,
   "metadata": {},
   "outputs": [],
   "source": [
    "file.close()"
   ]
  },
  {
   "cell_type": "code",
   "execution_count": 13,
   "metadata": {},
   "outputs": [],
   "source": [
    "file=open('test.txt','r+')\n",
    "l=file.readlines()\n",
    "l=[ i.upper() for i in l ]\n",
    "file=open('test.txt','w+')\n",
    "file.writelines(l)\n",
    "#line\n",
    "#file.close()\n"
   ]
  },
  {
   "cell_type": "code",
   "execution_count": 14,
   "metadata": {},
   "outputs": [
    {
     "data": {
      "text/plain": [
       "'HELLO WORLD \\nHELLO WORLD \\nHELLO WORLD \\nHELLO WORLD \\nHELLO WORLD \\n'"
      ]
     },
     "execution_count": 14,
     "metadata": {},
     "output_type": "execute_result"
    }
   ],
   "source": [
    "file.seek(0)\n",
    "file.read()"
   ]
  },
  {
   "cell_type": "code",
   "execution_count": 15,
   "metadata": {},
   "outputs": [
    {
     "name": "stdout",
     "output_type": "stream",
     "text": [
      "['HELLO WORLD \\n']\n"
     ]
    }
   ],
   "source": [
    "with open('test.txt','r') as file:\n",
    "    print(file.readlines(3))"
   ]
  },
  {
   "cell_type": "code",
   "execution_count": 16,
   "metadata": {
    "scrolled": true
   },
   "outputs": [
    {
     "data": {
      "text/plain": [
       "['HELLO WORLD \\n',\n",
       " 'HELLO WORLD \\n',\n",
       " 'Hello world \\n',\n",
       " 'HELLO WORLD \\n',\n",
       " 'HELLO WORLD \\n']"
      ]
     },
     "execution_count": 16,
     "metadata": {},
     "output_type": "execute_result"
    }
   ],
   "source": [
    "file=open('test.txt','r+')\n",
    "line=file.readlines()\n",
    "file.close()\n",
    "line[2]=line[2].capitalize()\n",
    "file=open('test.txt','w+')\n",
    "file.writelines(line)\n",
    "line\n",
    "#file.close()\n"
   ]
  },
  {
   "cell_type": "code",
   "execution_count": 17,
   "metadata": {},
   "outputs": [
    {
     "data": {
      "text/plain": [
       "'HELLO WORLD \\nHELLO WORLD \\nHello world \\nHELLO WORLD \\nHELLO WORLD \\n'"
      ]
     },
     "execution_count": 17,
     "metadata": {},
     "output_type": "execute_result"
    }
   ],
   "source": [
    "file.seek(0)\n",
    "file.read()"
   ]
  },
  {
   "cell_type": "code",
   "execution_count": 18,
   "metadata": {},
   "outputs": [
    {
     "data": {
      "text/plain": [
       "'HELLO WORLD \\nHELLO WORLD \\nHello world \\nHELLO WORLD \\nHELLO WORLD \\n\\nI Love python'"
      ]
     },
     "execution_count": 18,
     "metadata": {},
     "output_type": "execute_result"
    }
   ],
   "source": [
    "with open('test.txt','a+') as f:\n",
    "    f.write('\\nI Love python')\n",
    "    file.seek(0)\n",
    "file.read()"
   ]
  },
  {
   "cell_type": "code",
   "execution_count": null,
   "metadata": {},
   "outputs": [],
   "source": []
  }
 ],
 "metadata": {
  "kernelspec": {
   "display_name": "Python 3",
   "language": "python",
   "name": "python3"
  },
  "language_info": {
   "codemirror_mode": {
    "name": "ipython",
    "version": 3
   },
   "file_extension": ".py",
   "mimetype": "text/x-python",
   "name": "python",
   "nbconvert_exporter": "python",
   "pygments_lexer": "ipython3",
   "version": "3.8.5"
  }
 },
 "nbformat": 4,
 "nbformat_minor": 4
}
